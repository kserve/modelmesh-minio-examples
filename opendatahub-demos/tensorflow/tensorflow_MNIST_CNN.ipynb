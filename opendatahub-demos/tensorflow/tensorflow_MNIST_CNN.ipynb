{
 "cells": [
  {
   "cell_type": "code",
   "execution_count": null,
   "id": "51f0afd8-b5a7-4dcb-be69-551b9ed52af5",
   "metadata": {},
   "outputs": [],
   "source": [
    "#Import the necessary libraries\n",
    "import tensorflow as tf\n",
    "from tensorflow.keras import layers, datasets\n",
    "from tensorflow.keras import Sequential\n",
    "import matplotlib.pyplot as plt"
   ]
  },
  {
   "cell_type": "code",
   "execution_count": null,
   "id": "f6f98e7c-5ed9-47e8-95d9-614b2d58b29c",
   "metadata": {},
   "outputs": [],
   "source": [
    "#Import the dataset and split the data into training and testing sets.\n",
    "(input_train, output_train), (input_test, output_test) = tf.keras.datasets.mnist.load_data()"
   ]
  },
  {
   "cell_type": "code",
   "execution_count": null,
   "id": "49707f10-a5cc-4e72-a45c-66b38ea12963",
   "metadata": {},
   "outputs": [],
   "source": [
    "#Reshape and normalize the input data to fit the size of the MNIST images and normalizing the pixel values.\n",
    "input_train = input_train.reshape(-1, 28, 28, 1)\n",
    "input_test = input_test.reshape(-1, 28, 28, 1)\n",
    "input_train, input_test = input_train / 255.0, input_test / 255.0"
   ]
  },
  {
   "cell_type": "code",
   "execution_count": null,
   "id": "0736030f-3782-4148-9a15-61aa9a6c934b",
   "metadata": {},
   "outputs": [],
   "source": [
    "#Use the one_hot function to encode the labeled data to be continuous instead of categorical by converting to one_hot encoded vectors with a depth of 10.\n",
    "tf.one_hot(output_train.astype(\"float32\"), depth=10)\n",
    "tf.one_hot(output_test.astype(\"float32\"), depth=10)"
   ]
  },
  {
   "cell_type": "code",
   "execution_count": null,
   "id": "95d7da5a-d827-4bd7-8d5c-7e1ff3c0d414",
   "metadata": {},
   "outputs": [],
   "source": [
    "#Create the CNN model with the Sequential class, and add all necessary layers to complete the model\n",
    "sequential = Sequential()\n",
    "sequential.add(layers.Conv2D(32, (3,3), activation='relu', input_shape=(28, 28, 1)))\n",
    "sequential.add(layers.MaxPooling2D(2, 2))\n",
    "sequential.add(layers.Conv2D(64, (3, 3), activation='relu')) \n",
    "sequential.add(layers.MaxPooling2D(2, 2))\n",
    "sequential.add(layers.Conv2D(64, (3, 3), activation='relu')) \n",
    "sequential.summary()"
   ]
  },
  {
   "cell_type": "code",
   "execution_count": null,
   "id": "297a96f9-e88a-4ebe-ad08-d365579db0dd",
   "metadata": {},
   "outputs": [],
   "source": [
    "sequential.add(layers.Flatten())\n",
    "sequential.add(layers.Dense(64, activation='relu'))\n",
    "sequential.add(layers.Dense(10))\n",
    "sequential.summary()"
   ]
  },
  {
   "cell_type": "code",
   "execution_count": null,
   "id": "0c888669-507d-41e7-baf9-4e11cd643f7c",
   "metadata": {},
   "outputs": [],
   "source": [
    "#Compile and train the model \n",
    "sequential.compile(optimizer='adam', loss=tf.keras.losses.SparseCategoricalCrossentropy(from_logits=True), metrics=[\"accuracy\"])\n",
    "training = sequential.fit(input_train, output_train, batch_size=128, epochs=5, validation_data=(input_test, output_test))"
   ]
  },
  {
   "cell_type": "code",
   "execution_count": null,
   "id": "a41de942-27fe-4b8b-9bf3-7df3886589da",
   "metadata": {},
   "outputs": [],
   "source": [
    "#Plot the accuracy of the model's training performance using matplotlib\n",
    "plt.figure(figsize=(15,15))\n",
    "plt.plot(training.history['accuracy'], label='accuracy')\n",
    "plt.plot(training.history['val_accuracy'], label='val_accuracy')\n",
    "plt.xlabel('Epoch')\n",
    "plt.ylabel('Accuracy')\n",
    "plt.ylim([.9, 1])\n",
    "plt.legend(loc='lower left')"
   ]
  },
  {
   "cell_type": "code",
   "execution_count": null,
   "id": "09fbf714-2920-4bd8-a3fc-5c2563354994",
   "metadata": {},
   "outputs": [],
   "source": [
    "#Evaluate the model's performance; calculate and return the loss and accuracy.\n",
    "loss, accuracy = sequential.evaluate(input_test, output_test)\n",
    "print(\"Test Loss: \" ,loss)\n",
    "print(\"Test Accuracy:\", accuracy)"
   ]
  }
 ],
 "metadata": {
  "kernelspec": {
   "display_name": "Python 3",
   "language": "python",
   "name": "python3"
  },
  "language_info": {
   "codemirror_mode": {
    "name": "ipython",
    "version": 3
   },
   "file_extension": ".py",
   "mimetype": "text/x-python",
   "name": "python",
   "nbconvert_exporter": "python",
   "pygments_lexer": "ipython3",
   "version": "3.6.8"
  }
 },
 "nbformat": 4,
 "nbformat_minor": 5
}
