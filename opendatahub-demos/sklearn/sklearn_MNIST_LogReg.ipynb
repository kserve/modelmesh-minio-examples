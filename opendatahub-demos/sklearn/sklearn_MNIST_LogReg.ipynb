{
 "cells": [
  {
   "cell_type": "code",
   "execution_count": null,
   "id": "8895e7c8-5224-4b78-84ed-9bbbc7166d19",
   "metadata": {},
   "outputs": [],
   "source": [
    "#Import the necessary libraries\n",
    "from sklearn.linear_model import LogisticRegression\n",
    "from sklearn.metrics import accuracy_score\n",
    "from sklearn.preprocessing import StandardScaler\n",
    "from sklearn.model_selection import train_test_split\n",
    "from sklearn.datasets import fetch_openml\n",
    "from sklearn import metrics\n",
    "import matplotlib.pyplot as plt\n",
    "import seaborn as sb\n",
    "import joblib"
   ]
  },
  {
   "cell_type": "code",
   "execution_count": null,
   "id": "a1726f35-a91c-4f74-bd39-e5b03df7809e",
   "metadata": {
    "tags": []
   },
   "outputs": [],
   "source": [
    "#Import the dataset and split the data into training(INPUT) and testing(OUTPUT) sets.\n",
    "#Rename input_data to training_data? and output_data to testing_data?\n",
    "input_data, output_data = fetch_openml(\"mnist_784\", return_X_y=True, as_frame=False, version=1)"
   ]
  },
  {
   "cell_type": "code",
   "execution_count": null,
   "id": "6bfb67b8-88d0-404d-9b5b-5c485aedee86",
   "metadata": {},
   "outputs": [],
   "source": [
    "#Use the StandardScaler to scale the training features. \n",
    "sscaler = StandardScaler()\n",
    "input_data = sscaler.fit_transform(input_data)"
   ]
  },
  {
   "cell_type": "code",
   "execution_count": null,
   "id": "1aa52538-bebe-4a7d-9358-4b542f67b410",
   "metadata": {},
   "outputs": [],
   "source": [
    "#Split the data into training and testing inputs and outputs.\n",
    "input_train, output_train, input_test, output_test = train_test_split(input_data, output_data, test_size=.15, random_state=22)"
   ]
  },
  {
   "cell_type": "code",
   "execution_count": null,
   "id": "0fbc1150-0728-4fe6-a5d4-d03569c736fc",
   "metadata": {},
   "outputs": [],
   "source": [
    "#Create and traing the Logistic Regression model with the input data.\n",
    "lg_model = LogisticRegression(solver='lbfgs', max_iter=1000)\n",
    "lg_model.fit(input_train, input_test)"
   ]
  },
  {
   "cell_type": "code",
   "execution_count": null,
   "id": "def02396-b9e0-4954-82fb-29c56df6d0be",
   "metadata": {},
   "outputs": [],
   "source": [
    "#Calculate and return the accuracy of the model.\n",
    "target_predictions = lg_model.predict(output_train)\n",
    "accuracy = accuracy_score(output_test, target_predictions)\n",
    "print(accuracy)"
   ]
  },
  {
   "cell_type": "code",
   "execution_count": null,
   "id": "c8bfa02b-5aee-4424-8c6c-39c83667eca0",
   "metadata": {},
   "outputs": [],
   "source": [
    "#Create and view the defeault confusion matrix. Then, create a matplotlib plot to clearly map the confusion matrix.\n",
    "cm = metrics.confusion_matrix(output_test, target_predictions)\n",
    "print(cm)"
   ]
  },
  {
   "cell_type": "code",
   "execution_count": null,
   "id": "e821e247-c779-4236-91bf-b2639f0f5767",
   "metadata": {},
   "outputs": [],
   "source": [
    "plt.figure(figsize=(15,15))\n",
    "sb.heatmap(cm, annot=True, fmt=\".3f\", linewidths=.5, square = True, cmap = 'Reds_r')\n",
    "plt.ylabel('Actual', size=20)\n",
    "plt.xlabel('Prediction', size=20)\n",
    "title = 'Accuracy Score: {0}'.format(accuracy)\n",
    "plt.title(title, size = 20)"
   ]
  },
  {
   "cell_type": "code",
   "execution_count": null,
   "id": "5bf8e2a5-9366-481e-a6fe-b214f76e7eb2",
   "metadata": {},
   "outputs": [],
   "source": [
    "filename = \"sklearn_mnist.joblib\"\n",
    "joblib.dump(lg_model, filename)"
   ]
  }
 ],
 "metadata": {
  "kernelspec": {
   "display_name": "Python 3",
   "language": "python",
   "name": "python3"
  },
  "language_info": {
   "codemirror_mode": {
    "name": "ipython",
    "version": 3
   },
   "file_extension": ".py",
   "mimetype": "text/x-python",
   "name": "python",
   "nbconvert_exporter": "python",
   "pygments_lexer": "ipython3",
   "version": "3.6.8"
  }
 },
 "nbformat": 4,
 "nbformat_minor": 5
}
